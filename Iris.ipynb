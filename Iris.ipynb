{
 "cells": [
  {
   "cell_type": "code",
   "execution_count": 24,
   "metadata": {},
   "outputs": [],
   "source": [
    "import os\n",
    "os.chdir(r'C:\\Users\\santh_000\\Desktop\\Kaggle\\Iris')"
   ]
  },
  {
   "cell_type": "code",
   "execution_count": 25,
   "metadata": {},
   "outputs": [],
   "source": [
    "import pandas as pd\n",
    "import numpy as np\n",
    "import matplotlib.pyplot as plt\n",
    "%matplotlib inline\n",
    "import warnings \n",
    "warnings.filterwarnings('ignore')\n",
    "from keras.utils import to_categorical"
   ]
  },
  {
   "cell_type": "code",
   "execution_count": 26,
   "metadata": {},
   "outputs": [],
   "source": [
    "import seaborn as sns\n",
    "sns.set_style(\"whitegrid\")"
   ]
  },
  {
   "cell_type": "code",
   "execution_count": 27,
   "metadata": {},
   "outputs": [],
   "source": [
    "data=pd.read_csv('iris.csv')"
   ]
  },
  {
   "cell_type": "code",
   "execution_count": 28,
   "metadata": {},
   "outputs": [
    {
     "data": {
      "text/html": [
       "<div>\n",
       "<style scoped>\n",
       "    .dataframe tbody tr th:only-of-type {\n",
       "        vertical-align: middle;\n",
       "    }\n",
       "\n",
       "    .dataframe tbody tr th {\n",
       "        vertical-align: top;\n",
       "    }\n",
       "\n",
       "    .dataframe thead th {\n",
       "        text-align: right;\n",
       "    }\n",
       "</style>\n",
       "<table border=\"1\" class=\"dataframe\">\n",
       "  <thead>\n",
       "    <tr style=\"text-align: right;\">\n",
       "      <th></th>\n",
       "      <th>Id</th>\n",
       "      <th>SepalLengthCm</th>\n",
       "      <th>SepalWidthCm</th>\n",
       "      <th>PetalLengthCm</th>\n",
       "      <th>PetalWidthCm</th>\n",
       "      <th>Species</th>\n",
       "    </tr>\n",
       "  </thead>\n",
       "  <tbody>\n",
       "    <tr>\n",
       "      <th>0</th>\n",
       "      <td>1</td>\n",
       "      <td>5.1</td>\n",
       "      <td>3.5</td>\n",
       "      <td>1.4</td>\n",
       "      <td>0.2</td>\n",
       "      <td>Iris-setosa</td>\n",
       "    </tr>\n",
       "    <tr>\n",
       "      <th>1</th>\n",
       "      <td>2</td>\n",
       "      <td>4.9</td>\n",
       "      <td>3.0</td>\n",
       "      <td>1.4</td>\n",
       "      <td>0.2</td>\n",
       "      <td>Iris-setosa</td>\n",
       "    </tr>\n",
       "    <tr>\n",
       "      <th>2</th>\n",
       "      <td>3</td>\n",
       "      <td>4.7</td>\n",
       "      <td>3.2</td>\n",
       "      <td>1.3</td>\n",
       "      <td>0.2</td>\n",
       "      <td>Iris-setosa</td>\n",
       "    </tr>\n",
       "    <tr>\n",
       "      <th>3</th>\n",
       "      <td>4</td>\n",
       "      <td>4.6</td>\n",
       "      <td>3.1</td>\n",
       "      <td>1.5</td>\n",
       "      <td>0.2</td>\n",
       "      <td>Iris-setosa</td>\n",
       "    </tr>\n",
       "    <tr>\n",
       "      <th>4</th>\n",
       "      <td>5</td>\n",
       "      <td>5.0</td>\n",
       "      <td>3.6</td>\n",
       "      <td>1.4</td>\n",
       "      <td>0.2</td>\n",
       "      <td>Iris-setosa</td>\n",
       "    </tr>\n",
       "  </tbody>\n",
       "</table>\n",
       "</div>"
      ],
      "text/plain": [
       "   Id  SepalLengthCm  SepalWidthCm  PetalLengthCm  PetalWidthCm      Species\n",
       "0   1            5.1           3.5            1.4           0.2  Iris-setosa\n",
       "1   2            4.9           3.0            1.4           0.2  Iris-setosa\n",
       "2   3            4.7           3.2            1.3           0.2  Iris-setosa\n",
       "3   4            4.6           3.1            1.5           0.2  Iris-setosa\n",
       "4   5            5.0           3.6            1.4           0.2  Iris-setosa"
      ]
     },
     "execution_count": 28,
     "metadata": {},
     "output_type": "execute_result"
    }
   ],
   "source": [
    "data.head()"
   ]
  },
  {
   "cell_type": "code",
   "execution_count": 30,
   "metadata": {},
   "outputs": [
    {
     "data": {
      "text/plain": [
       "<seaborn.axisgrid.FacetGrid at 0x23b7b4ec198>"
      ]
     },
     "execution_count": 30,
     "metadata": {},
     "output_type": "execute_result"
    },
    {
     "data": {
      "image/png": "[encoded data removed]",
      "text/plain": [
       "<Figure size 455.875x360 with 1 Axes>"
      ]
     },
     "metadata": {},
     "output_type": "display_data"
    }
   ],
   "source": [
    "sns.FacetGrid(data, hue = 'Species', size=5) \\\n",
    "    .map(plt.scatter, 'SepalLengthCm','SepalWidthCm') \\\n",
    "    .add_legend()"
   ]
  },
  {
   "cell_type": "code",
   "execution_count": 32,
   "metadata": {},
   "outputs": [],
   "source": [
    "dataset = data.iloc[:,1:5].values\n",
    "labels = data.iloc[:,5].values\n",
    "\n",
    "from sklearn.preprocessing import LabelEncoder\n",
    "encoder =  LabelEncoder()\n",
    "label_enc = encoder.fit_transform(labels)\n",
    "\n",
    "Y = pd.get_dummies(label_enc).values\n",
    "\n",
    "\n",
    "from sklearn.model_selection import train_test_split\n",
    "X_train,X_test, y_train,y_test = train_test_split(dataset,Y,test_size=0.25) "
   ]
  },
  {
   "cell_type": "code",
   "execution_count": 76,
   "metadata": {},
   "outputs": [
    {
     "name": "stdout",
     "output_type": "stream",
     "text": [
      "_________________________________________________________________\n",
      "Layer (type)                 Output Shape              Param #   \n",
      "=================================================================\n",
      "dense_22 (Dense)             (None, 6)                 30        \n",
      "_________________________________________________________________\n",
      "dense_23 (Dense)             (None, 6)                 42        \n",
      "_________________________________________________________________\n",
      "dense_24 (Dense)             (None, 3)                 21        \n",
      "=================================================================\n",
      "Total params: 93\n",
      "Trainable params: 93\n",
      "Non-trainable params: 0\n",
      "_________________________________________________________________\n"
     ]
    }
   ],
   "source": [
    "from keras.models import Sequential\n",
    "from keras.layers import Dense\n",
    "from keras.optimizers import Adam\n",
    "net=Sequential()\n",
    "net.add(Dense(output_dim=6,init='uniform',activation='relu',input_dim=4))\n",
    "net.add(Dense(output_dim=6,init='uniform',activation='relu'))\n",
    "net.add(Dense(output_dim=3,init='uniform',activation='softmax'))\n",
    "net.compile(Adam(lr=0.01),'categorical_crossentropy',metrics=['accuracy'])\n",
    "net.summary()"
   ]
  },
  {
   "cell_type": "code",
   "execution_count": 77,
   "metadata": {},
   "outputs": [
    {
     "name": "stdout",
     "output_type": "stream",
     "text": [
      "Epoch 1/100\n",
      "112/112 [==============================] - 0s 4ms/step - loss: 1.0834 - acc: 0.3125\n",
      "Epoch 2/100\n",
      "112/112 [==============================] - 0s 419us/step - loss: 0.8978 - acc: 0.5089\n",
      "Epoch 3/100\n",
      "112/112 [==============================] - 0s 337us/step - loss: 0.5759 - acc: 0.7411\n",
      "Epoch 4/100\n",
      "112/112 [==============================] - 0s 419us/step - loss: 0.3811 - acc: 0.8929\n",
      "Epoch 5/100\n",
      "112/112 [==============================] - 0s 477us/step - loss: 0.3306 - acc: 0.8125\n",
      "Epoch 6/100\n",
      "112/112 [==============================] - ETA: 0s - loss: 0.2925 - acc: 0.800 - 0s 279us/step - loss: 0.2406 - acc: 0.9196\n",
      "Epoch 7/100\n",
      "112/112 [==============================] - 0s 419us/step - loss: 0.1654 - acc: 0.9643\n",
      "Epoch 8/100\n",
      "112/112 [==============================] - 0s 477us/step - loss: 0.1494 - acc: 0.9554\n",
      "Epoch 9/100\n",
      "112/112 [==============================] - 0s 477us/step - loss: 0.1488 - acc: 0.9464\n",
      "Epoch 10/100\n",
      "112/112 [==============================] - 0s 419us/step - loss: 0.1473 - acc: 0.9554\n",
      "Epoch 11/100\n",
      "112/112 [==============================] - 0s 419us/step - loss: 0.1208 - acc: 0.9554\n",
      "Epoch 12/100\n",
      "112/112 [==============================] - 0s 279us/step - loss: 0.1067 - acc: 0.9643\n",
      "Epoch 13/100\n",
      "112/112 [==============================] - 0s 418us/step - loss: 0.2277 - acc: 0.8929\n",
      "Epoch 14/100\n",
      "112/112 [==============================] - 0s 477us/step - loss: 0.1524 - acc: 0.9196\n",
      "Epoch 15/100\n",
      "112/112 [==============================] - 0s 419us/step - loss: 0.1153 - acc: 0.9554\n",
      "Epoch 16/100\n",
      "112/112 [==============================] - 0s 477us/step - loss: 0.0818 - acc: 0.9732\n",
      "Epoch 17/100\n",
      "112/112 [==============================] - 0s 477us/step - loss: 0.1058 - acc: 0.9643\n",
      "Epoch 18/100\n",
      "112/112 [==============================] - 0s 419us/step - loss: 0.1331 - acc: 0.9554\n",
      "Epoch 19/100\n",
      "112/112 [==============================] - 0s 418us/step - loss: 0.0878 - acc: 0.9643\n",
      "Epoch 20/100\n",
      "112/112 [==============================] - 0s 337us/step - loss: 0.0855 - acc: 0.9464\n",
      "Epoch 21/100\n",
      "112/112 [==============================] - 0s 419us/step - loss: 0.1041 - acc: 0.9554\n",
      "Epoch 22/100\n",
      "112/112 [==============================] - 0s 477us/step - loss: 0.0924 - acc: 0.9643\n",
      "Epoch 23/100\n",
      "112/112 [==============================] - 0s 477us/step - loss: 0.0937 - acc: 0.9732\n",
      "Epoch 24/100\n",
      "112/112 [==============================] - 0s 558us/step - loss: 0.1176 - acc: 0.9643\n",
      "Epoch 25/100\n",
      "112/112 [==============================] - 0s 616us/step - loss: 0.0900 - acc: 0.9554\n",
      "Epoch 26/100\n",
      "112/112 [==============================] - 0s 756us/step - loss: 0.1794 - acc: 0.9286\n",
      "Epoch 27/100\n",
      "112/112 [==============================] - 0s 756us/step - loss: 0.1046 - acc: 0.9554\n",
      "Epoch 28/100\n",
      "112/112 [==============================] - 0s 697us/step - loss: 0.0548 - acc: 0.9732\n",
      "Epoch 29/100\n",
      "112/112 [==============================] - 0s 558us/step - loss: 0.0943 - acc: 0.9643\n",
      "Epoch 30/100\n",
      "112/112 [==============================] - 0s 756us/step - loss: 0.0712 - acc: 0.9821\n",
      "Epoch 31/100\n",
      "112/112 [==============================] - 0s 756us/step - loss: 0.0834 - acc: 0.9464\n",
      "Epoch 32/100\n",
      "112/112 [==============================] - 0s 616us/step - loss: 0.0779 - acc: 0.9732\n",
      "Epoch 33/100\n",
      "112/112 [==============================] - 0s 698us/step - loss: 0.0903 - acc: 0.9643\n",
      "Epoch 34/100\n",
      "112/112 [==============================] - 0s 756us/step - loss: 0.0634 - acc: 0.9732\n",
      "Epoch 35/100\n",
      "112/112 [==============================] - 0s 616us/step - loss: 0.0780 - acc: 0.9732\n",
      "Epoch 36/100\n",
      "112/112 [==============================] - 0s 616us/step - loss: 0.1414 - acc: 0.9375\n",
      "Epoch 37/100\n",
      "112/112 [==============================] - 0s 1ms/step - loss: 0.0664 - acc: 0.9732\n",
      "Epoch 38/100\n",
      "112/112 [==============================] - 0s 697us/step - loss: 0.1138 - acc: 0.9375\n",
      "Epoch 39/100\n",
      "112/112 [==============================] - 0s 895us/step - loss: 0.0917 - acc: 0.9643\n",
      "Epoch 40/100\n",
      "112/112 [==============================] - 0s 698us/step - loss: 0.0915 - acc: 0.9554\n",
      "Epoch 41/100\n",
      "112/112 [==============================] - 0s 756us/step - loss: 0.0876 - acc: 0.9643\n",
      "Epoch 42/100\n",
      "112/112 [==============================] - 0s 895us/step - loss: 0.0694 - acc: 0.9643\n",
      "Epoch 43/100\n",
      "112/112 [==============================] - 0s 1ms/step - loss: 0.0936 - acc: 0.9554\n",
      "Epoch 44/100\n",
      "112/112 [==============================] - 0s 906us/step - loss: 0.0789 - acc: 0.9643\n",
      "Epoch 45/100\n",
      "112/112 [==============================] - 0s 888us/step - loss: 0.0581 - acc: 0.9821\n",
      "Epoch 46/100\n",
      "112/112 [==============================] - 0s 837us/step - loss: 0.0630 - acc: 0.9732\n",
      "Epoch 47/100\n",
      "112/112 [==============================] - 0s 895us/step - loss: 0.2191 - acc: 0.9107\n",
      "Epoch 48/100\n",
      "112/112 [==============================] - 0s 1ms/step - loss: 0.1395 - acc: 0.9375\n",
      "Epoch 49/100\n",
      "112/112 [==============================] - 0s 616us/step - loss: 0.1252 - acc: 0.9554\n",
      "Epoch 50/100\n",
      "112/112 [==============================] - 0s 895us/step - loss: 0.0689 - acc: 0.9643\n",
      "Epoch 51/100\n",
      "112/112 [==============================] - 0s 558us/step - loss: 0.0647 - acc: 0.9732\n",
      "Epoch 52/100\n",
      "112/112 [==============================] - 0s 756us/step - loss: 0.0652 - acc: 0.9821\n",
      "Epoch 53/100\n",
      "112/112 [==============================] - 0s 616us/step - loss: 0.0680 - acc: 0.9732\n",
      "Epoch 54/100\n",
      "112/112 [==============================] - 0s 418us/step - loss: 0.1019 - acc: 0.9554\n",
      "Epoch 55/100\n",
      "112/112 [==============================] - 0s 477us/step - loss: 0.1257 - acc: 0.9464\n",
      "Epoch 56/100\n",
      "112/112 [==============================] - 0s 616us/step - loss: 0.1288 - acc: 0.9464\n",
      "Epoch 57/100\n",
      "112/112 [==============================] - 0s 419us/step - loss: 0.0615 - acc: 0.9911\n",
      "Epoch 58/100\n",
      "112/112 [==============================] - 0s 477us/step - loss: 0.0850 - acc: 0.9643\n",
      "Epoch 59/100\n",
      "112/112 [==============================] - 0s 558us/step - loss: 0.0777 - acc: 0.9732\n",
      "Epoch 60/100\n",
      "112/112 [==============================] - 0s 477us/step - loss: 0.0609 - acc: 0.9821\n",
      "Epoch 61/100\n",
      "112/112 [==============================] - 0s 418us/step - loss: 0.0737 - acc: 0.9643\n",
      "Epoch 62/100\n",
      "112/112 [==============================] - 0s 477us/step - loss: 0.0708 - acc: 0.9643\n",
      "Epoch 63/100\n",
      "112/112 [==============================] - 0s 558us/step - loss: 0.0561 - acc: 0.9643\n",
      "Epoch 64/100\n",
      "112/112 [==============================] - 0s 337us/step - loss: 0.1027 - acc: 0.9554\n",
      "Epoch 65/100\n",
      "112/112 [==============================] - 0s 418us/step - loss: 0.0530 - acc: 0.9821\n",
      "Epoch 66/100\n",
      "112/112 [==============================] - 0s 477us/step - loss: 0.1206 - acc: 0.9554\n",
      "Epoch 67/100\n",
      "112/112 [==============================] - 0s 419us/step - loss: 0.1121 - acc: 0.9286\n",
      "Epoch 68/100\n",
      "112/112 [==============================] - 0s 477us/step - loss: 0.2280 - acc: 0.9375\n",
      "Epoch 69/100\n",
      "112/112 [==============================] - 0s 418us/step - loss: 0.1797 - acc: 0.9286\n",
      "Epoch 70/100\n",
      "112/112 [==============================] - 0s 477us/step - loss: 0.0608 - acc: 0.9732\n",
      "Epoch 71/100\n",
      "112/112 [==============================] - 0s 419us/step - loss: 0.0729 - acc: 0.9643\n",
      "Epoch 72/100\n",
      "112/112 [==============================] - 0s 477us/step - loss: 0.0733 - acc: 0.9732\n",
      "Epoch 73/100\n",
      "112/112 [==============================] - 0s 419us/step - loss: 0.0596 - acc: 0.9732\n",
      "Epoch 74/100\n",
      "112/112 [==============================] - 0s 477us/step - loss: 0.0636 - acc: 0.9732\n",
      "Epoch 75/100\n",
      "112/112 [==============================] - 0s 558us/step - loss: 0.0688 - acc: 0.9554\n",
      "Epoch 76/100\n",
      "112/112 [==============================] - 0s 477us/step - loss: 0.0827 - acc: 0.9643\n",
      "Epoch 77/100\n",
      "112/112 [==============================] - 0s 558us/step - loss: 0.0754 - acc: 0.9554\n",
      "Epoch 78/100\n",
      "112/112 [==============================] - ETA: 0s - loss: 0.0020 - acc: 1.000 - 0s 477us/step - loss: 0.0643 - acc: 0.9643\n",
      "Epoch 79/100\n",
      "112/112 [==============================] - 0s 337us/step - loss: 0.0829 - acc: 0.9732\n",
      "Epoch 80/100\n",
      "112/112 [==============================] - 0s 419us/step - loss: 0.0884 - acc: 0.9643\n",
      "Epoch 81/100\n",
      "112/112 [==============================] - 0s 477us/step - loss: 0.1059 - acc: 0.9643\n",
      "Epoch 82/100\n",
      "112/112 [==============================] - 0s 279us/step - loss: 0.0523 - acc: 0.9821\n",
      "Epoch 83/100\n"
     ]
    },
    {
     "name": "stdout",
     "output_type": "stream",
     "text": [
      "112/112 [==============================] - 0s 418us/step - loss: 0.1382 - acc: 0.9375\n",
      "Epoch 84/100\n",
      "112/112 [==============================] - 0s 337us/step - loss: 0.0946 - acc: 0.9643\n",
      "Epoch 85/100\n",
      "112/112 [==============================] - 0s 418us/step - loss: 0.0512 - acc: 0.9821\n",
      "Epoch 86/100\n",
      "112/112 [==============================] - 0s 477us/step - loss: 0.0692 - acc: 0.9643\n",
      "Epoch 87/100\n",
      "112/112 [==============================] - 0s 558us/step - loss: 0.0723 - acc: 0.9732\n",
      "Epoch 88/100\n",
      "112/112 [==============================] - 0s 337us/step - loss: 0.0731 - acc: 0.9732\n",
      "Epoch 89/100\n",
      "112/112 [==============================] - 0s 558us/step - loss: 0.0680 - acc: 0.9732\n",
      "Epoch 90/100\n",
      "112/112 [==============================] - 0s 337us/step - loss: 0.0685 - acc: 0.9554\n",
      "Epoch 91/100\n",
      "112/112 [==============================] - 0s 418us/step - loss: 0.0633 - acc: 0.9821\n",
      "Epoch 92/100\n",
      "112/112 [==============================] - 0s 337us/step - loss: 0.1342 - acc: 0.9375\n",
      "Epoch 93/100\n",
      "112/112 [==============================] - 0s 418us/step - loss: 0.1343 - acc: 0.9375\n",
      "Epoch 94/100\n",
      "112/112 [==============================] - 0s 337us/step - loss: 0.1247 - acc: 0.9643\n",
      "Epoch 95/100\n",
      "112/112 [==============================] - 0s 279us/step - loss: 0.1196 - acc: 0.9643\n",
      "Epoch 96/100\n",
      "112/112 [==============================] - 0s 418us/step - loss: 0.0821 - acc: 0.9732\n",
      "Epoch 97/100\n",
      "112/112 [==============================] - 0s 337us/step - loss: 0.0608 - acc: 0.9821\n",
      "Epoch 98/100\n",
      "112/112 [==============================] - 0s 418us/step - loss: 0.0965 - acc: 0.9732\n",
      "Epoch 99/100\n",
      "112/112 [==============================] - 0s 337us/step - loss: 0.0906 - acc: 0.9643\n",
      "Epoch 100/100\n",
      "112/112 [==============================] - 0s 279us/step - loss: 0.0938 - acc: 0.9554\n"
     ]
    }
   ],
   "source": [
    "net.fit(X_train,y_train,batch_size=5,epochs=100)\n",
    "y_pred = net.predict(X_test)\n",
    "\n",
    "y_test_class = np.argmax(y_test,axis=1)\n",
    "y_pred_class = np.argmax(y_pred,axis=1)"
   ]
  },
  {
   "cell_type": "code",
   "execution_count": 78,
   "metadata": {},
   "outputs": [],
   "source": [
    "from sklearn.metrics import confusion_matrix\n"
   ]
  },
  {
   "cell_type": "code",
   "execution_count": 79,
   "metadata": {},
   "outputs": [
    {
     "name": "stdout",
     "output_type": "stream",
     "text": [
      "[[17  0  0]\n",
      " [ 0  6  0]\n",
      " [ 0  1 14]]\n"
     ]
    }
   ],
   "source": [
    "print(confusion_matrix(y_test_class,y_pred_class))"
   ]
  },
  {
   "cell_type": "code",
   "execution_count": null,
   "metadata": {},
   "outputs": [],
   "source": []
  }
 ],
 "metadata": {
  "kernelspec": {
   "display_name": "Python 3",
   "language": "python",
   "name": "python3"
  },
  "language_info": {
   "codemirror_mode": {
    "name": "ipython",
    "version": 3
   },
   "file_extension": ".py",
   "mimetype": "text/x-python",
   "name": "python",
   "nbconvert_exporter": "python",
   "pygments_lexer": "ipython3",
   "version": "3.5.5"
  }
 },
 "nbformat": 4,
 "nbformat_minor": 2
}
